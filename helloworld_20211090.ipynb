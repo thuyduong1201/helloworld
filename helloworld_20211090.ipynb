{
  "nbformat": 4,
  "nbformat_minor": 0,
  "metadata": {
    "colab": {
      "name": "helloworld_20211090.ipynb",
      "provenance": [],
      "collapsed_sections": [],
      "authorship_tag": "ABX9TyNrnmMeWXpah/bYgvmvlJVE",
      "include_colab_link": true
    },
    "kernelspec": {
      "name": "python3",
      "display_name": "Python 3"
    },
    "language_info": {
      "name": "python"
    },
    "accelerator": "GPU"
  },
  "cells": [
    {
      "cell_type": "markdown",
      "metadata": {
        "id": "view-in-github",
        "colab_type": "text"
      },
      "source": [
        "<a href=\"https://colab.research.google.com/github/thuyduong1201/helloworld/blob/main/helloworld_20211090.ipynb\" target=\"_parent\"><img src=\"https://colab.research.google.com/assets/colab-badge.svg\" alt=\"Open In Colab\"/></a>"
      ]
    },
    {
      "cell_type": "code",
      "metadata": {
        "id": "QeWT14PfETD-",
        "colab": {
          "base_uri": "https://localhost:8080/"
        },
        "outputId": "fce1d6de-9bc3-442f-fb92-f6a7f4ae5d60"
      },
      "source": [
        "print(\"Hello world!!\")\n",
        "id = 20211090\n",
        "print(id)"
      ],
      "execution_count": 3,
      "outputs": [
        {
          "output_type": "stream",
          "text": [
            "Hello world!!\n",
            "20211090\n"
          ],
          "name": "stdout"
        }
      ]
    }
  ]
}